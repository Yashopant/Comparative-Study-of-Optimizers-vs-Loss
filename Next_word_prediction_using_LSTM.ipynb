{
  "nbformat": 4,
  "nbformat_minor": 0,
  "metadata": {
    "colab": {
      "provenance": [],
      "authorship_tag": "ABX9TyPUtAJ4b6Db4mVWGW8Cg+Lp",
      "include_colab_link": true
    },
    "kernelspec": {
      "name": "python3",
      "display_name": "Python 3"
    },
    "language_info": {
      "name": "python"
    },
    "accelerator": "TPU"
  },
  "cells": [
    {
      "cell_type": "markdown",
      "metadata": {
        "id": "view-in-github",
        "colab_type": "text"
      },
      "source": [
        "<a href=\"https://colab.research.google.com/github/Yashopant/Comparative-Study-of-Optimizers-vs-Loss/blob/master/Next_word_prediction_using_LSTM.ipynb\" target=\"_parent\"><img src=\"https://colab.research.google.com/assets/colab-badge.svg\" alt=\"Open In Colab\"/></a>"
      ]
    },
    {
      "cell_type": "code",
      "execution_count": null,
      "metadata": {
        "id": "Ysk1PMAB3QcT"
      },
      "outputs": [],
      "source": [
        "cotton= \"\"\"Cotton has been used as a fabric in India from time immemorial. It has been\n",
        "cultivated in the Indus valley more than 5000 years. The excavation of Mohenjodaro\n",
        "indicates high degree of art in spinning and weaving with cotton at that time. India appears\n",
        "to have been the center of an important cotton industry as early as 1500 BC. The cultivation\n",
        "of cotton spread from India to Egypt and to Spain and Italy. There are 20 species of cotton\n",
        "including wild as well as cultivated. The cultivated species have spinable lint while wild\n",
        "species have only short fuzz or smooth seeds. Out of 20 species, 16 species are wild and\n",
        "only 4 are cultivated.\n",
        " In the wild state, cotton is a perennial plant, which attains a height of 5-6 m, but\n",
        "most of the cultivated cottons are annuals. Cultivated cotton is a herbaceous plant which\n",
        "attains a height if 75-200 cm. Cotton plant has a tap root system with secondary roots that\n",
        "branched laterally from primary root. The main stem is erect and much branched; the\n",
        "branches develop from buds located at the nodes of the main stem. There are 2 buds at the\n",
        "base of each cotton leaf petiole. The true axillary buds develop in a vegetative branch,\n",
        "which only bear leaves and no flowers. The accessory bud generally develops into\n",
        "sympodial or fruiting branch. Vegetative branch may arise either from axillary or an\n",
        "accessory bud. There is tendency for the lower branches to be vegetative and the upper\n",
        "fruiting. The leaves are spirally arranged on the main stem and vegetative branches, except\n",
        "on fruiting branches. Where they form 2 alternate rows. The leaves are petiolate. The out\n",
        "line of leaf is more or less cordate with 3-9 lobes depending on variety. The leaves are\n",
        "green but in some species such as arborium leaves contain some purplish colour. The\n",
        "flowers develop at the opposite to a leaf in fruiting branches only. The flowers are of typical\n",
        "of the Malvaceae family. The flower buds, which appear as small pyramidal shaped green\n",
        "structure, are called square. The flowers open about 18-24 days after squares are seen.\n",
        "Flowers consist of pistil, the stamens arranged in a tube like staminal column the evolves\n",
        "the style of the pistil, 5 petals and 6 green sepals joined together to form a cup like calyx.\n",
        "The fruit is the enlarge ovary that develop into 3-5 loculed capsule or bail. The balls vary\n",
        "in size and shape but are usually more or less egg shaped. When the ball is ripe, the capsule\n",
        "cracks or splits along the lines or sutures where carpel meet and the cotton within expands\n",
        "greatly in a white fluffy mass. The number of seed in the ball varies from 24 to 50. The\n",
        "cotton fiber is simply as elongation or outgrowth of an epidermal cell of the seed coat. The\n",
        "long out growth forms the staple or lint while shorter out growth forms Fuzz.\n",
        "\n",
        "Cotton is one of the most important commercial crops playing key role in economic,\n",
        "political and social affairs of the world chiefly as fibre crop. Cotton is cultivated in about\n",
        "60 countries of the world but 10 countries viz., Russia, USA, China, India, Brazil, Pakistan,\n",
        "Turkey, Egypt, Mexico and Sudan account for about 85 % of the total production. It is\n",
        "cultivated in an area of about 32.9 million hectres with a total production of 41.1 million\n",
        "tones of seed cotton.\n",
        "India ranks first in the world in respect of acreage with about 8 million hectares\n",
        "under cotton and fourth in total seed cotton production (80 lakhs bales - 170 kg lint contains\n",
        "1 bale).\n",
        "In India, cotton is cultivated on large scale in the states of Maharashtra, Gujarat,\n",
        "Karnataka, Madhya Pradesh, Punjab, Rajasthan, Haryana, Tamil Nadu and Uttar Pradesh.\n",
        "Gujarat is the largest producer of cotton in India followed by Punjab and Maharashtra.\n",
        "In Gujarat, cotton is cultivated in about 15.19 lakh hectares with an annual\n",
        "production of about 31.80 lakh bales of cotton (lint). In Gujarat, it is widely cultivated in\n",
        "almost all districts except part of Dangs and Valsad districts.\n",
        "\n",
        "Cottonseed constitutes about 65 % of the kapas by weight and contains about 19 to 20\n",
        "% oil, while the oil content in kernels varies from 31 to 34  depending upon the species.\n",
        "Cottonseed oil is rich in essential fatty acid such as myristic, palmitoleic, steric, oleic and\n",
        "linoleic. Among this linoleic acid, most important fatty acid is present to the extent of 51\n",
        "%. The deficiency of this fatty acid lead to the narrowing of the arteries causing reduced\n",
        "blood supply to the heart. Presently, refined cottonseed oil is widely used for edible\n",
        "purposes as well as hydrogenated oils. The coefficient of digestibility of the oil is 97 % and\n",
        "is nutritive value is about 9 K calories per gram. The keeping quality of the oil is\n",
        "comparable to those of groundnut and safflower oils. The current production of cotton oil\n",
        "is about 3 to 5 lakh tonnes per annum.\n",
        "The cottonseed meal is the production after extraction of oil. It is mainly a protein\n",
        "fraction of the seed and has around 50 % protein content. The quality of any protein is\n",
        "determined by amino acid composition. Cottonseed protein contains about 70 % of the\n",
        "essential amino acids, evincing its nutritive value. This protein is however deficit in\n",
        "methionine, tryptophan and lysine. CIRCOT, Matunga (Mumbai - Cotton Technological\n",
        "Research Labouratory) has successfully developed quality parameters such as fibre length,\n",
        "fibre strength, number of counts, number of hank, and ginning % at laboratory scale as well\n",
        "as method for the protein enrichment of cottonseed meal cake.\n",
        "Cotton linters are those short fibres, which are left on the seed after the removal of\n",
        "long fibres for textile purpose. As the cotton linters are the main source of purest cellulose.\n",
        "They constitute a very important industrial row material for various cellulose based\n",
        "chemical industries. It is estimated that cotton belonging to Gossypium hirsutum species\n",
        "have the highest linter content (about 10.5 %) as against the average of 4.3 % to 5.9 % in\n",
        "desi varieties.\n",
        "Cottonseed hull is another by-product of cotton, which is very poorly exploited\n",
        "commercially. Hull is the seed coat, which constitute about 37 % of the weight of the\n",
        "cottonseed. Hulls contain about 35 to 47% of alpha cellulose, 19 to 27 % pentosans, 15 to 20 %\n",
        "lignin and 5 % ash, protein and fat etc. Presently hulls are used as roughage in live stock\n",
        "rations but this meal can be profitably exploited for the production of a versatile chemical\n",
        "furfural, activated charcoal, particleboards etc. CIRCOT developed a technique for\n",
        "production of furfural from cottonseed hulls. It has also developed techniques for use of\n",
        "hulls in production of particleboards. The average yield of furfural from the cottonseed hull\n",
        "is about 12 %. Cotton hulls also can be used to grow edible mushroom crop.\n",
        "\n",
        "Cotton is warm season crop. It requires a mean annual temperature of over 16 C\n",
        "and the annual rainfall of at least 1200 mm distributed throughout the growing season. A\n",
        "daily minimum temperature of 16 C is required for germination and 21 to 27 C for proper\n",
        "vegetative growth. It can tolerate temperatures as high as 43 C but does not do well if the\n",
        "temperature falls below 21 C. During fruiting phase, the day temperature ranging from 27\n",
        "to 32 C and cool nights are needed.\n",
        "If heavy showers of rains occurred or heavy irrigation is applied during the fruiting\n",
        "period resulted in shedding of the flowers and young balls. Abundant sunshine during the\n",
        "period of ball formation and harvesting is essential to obtained good quality produce.\n",
        "Cotton plants cannot withstand frost and hence its cultivation is restricted to an altitude of\n",
        "1000 meters only. The frost season of 180 to 240 days is required for successful cotton\n",
        "growing.\n",
        "\n",
        "A common practice in cotton cultivation is mixed cropping with maize, sorghum,\n",
        "Sesamum, pulses or vegetables as practiced in many parts of central India. Inter cropping\n",
        "with ragi, other millets or groundnut is also quite common in parts of Tamil Nadu,\n",
        "Karnataka and Andhra Pradesh.\n",
        "Inter cropping and mixed cropping under rainfed conditions serve both as an\n",
        "insurance against crop failure and as prevention against soil erosion.\n",
        "The commonest crop rotations for cotton in the irrigated areas of Punjab, Haryana,\n",
        "northern Rajasthan and Uttar Pradesh are cotton and wheat, cotton and sorghum and cotton and\n",
        "wheat and toria. The growing of berseem and cluster bean has been found to have beneficial\n",
        "effect on the succeeding cotton crop. IN central and western India, cotton and sorghum, cotton\n",
        "and pearl millet, cotton and wheat, cotton and gram and cotton and Sesamum are the useful rotations\n",
        "followed. Cotton following groundnut has been found to give 15 to 20 % higher yield than\n",
        "following wheat or sorghum. The raising of cotton crop after a legume in a rotation and\n",
        "preceded by a grain crop has been found to give a better yield.\n",
        "Among the various cotton based cropping system evaluate in middle Gujarat, cotton\n",
        "sown between 15 and 30 May followed by either cabbage transplanted during second fortnight\n",
        "of November or onion transplanted during first fortnight of November gave highest\n",
        "monetary return.\"\"\"\n"
      ]
    },
    {
      "cell_type": "code",
      "source": [
        "import tensorflow as tf\n",
        "from tensorflow.keras.preprocessing.text import Tokenizer"
      ],
      "metadata": {
        "id": "LgWVHm-GABgl"
      },
      "execution_count": null,
      "outputs": []
    },
    {
      "cell_type": "code",
      "source": [],
      "metadata": {
        "id": "Vqzghyx5DWJ-"
      },
      "execution_count": null,
      "outputs": []
    }
  ]
}